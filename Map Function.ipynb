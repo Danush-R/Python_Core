{
 "cells": [
  {
   "cell_type": "markdown",
   "id": "55d1e028-e9ae-4f72-a6a8-63ba832b8259",
   "metadata": {},
   "source": [
    "Map Function\n",
    "\n",
    "The map() function in Python is used to apply a function to every item of an iterable (like a list or tuple) and return a map object (which is an iterator). The result can be converted into a list, tuple, or other iterables."
   ]
  },
  {
   "cell_type": "code",
   "execution_count": 39,
   "id": "b72a27c4-f1db-4bb5-ab49-aa9fa33e54cc",
   "metadata": {},
   "outputs": [],
   "source": [
    "def evenodd(num):\n",
    "    if num % 2 == 0:\n",
    "        return \"The number {} is even.\".format(num)\n",
    "    else:\n",
    "        return \"The Number {} is odd.\".format(num)"
   ]
  },
  {
   "cell_type": "code",
   "execution_count": 13,
   "id": "22732383-27ba-4967-8b82-223476101df4",
   "metadata": {},
   "outputs": [
    {
     "data": {
      "text/plain": [
       "'The number 18 is even.'"
      ]
     },
     "execution_count": 13,
     "metadata": {},
     "output_type": "execute_result"
    }
   ],
   "source": [
    "evenodd(18)"
   ]
  },
  {
   "cell_type": "code",
   "execution_count": 14,
   "id": "497b64ee-34eb-49fb-98d8-c9bbf6d4b71e",
   "metadata": {},
   "outputs": [
    {
     "name": "stdout",
     "output_type": "stream",
     "text": [
      "<class 'list'>\n"
     ]
    }
   ],
   "source": [
    "l=[1,2,3,4,5,6,7,8,9,10]\n",
    "print(type(l))"
   ]
  },
  {
   "cell_type": "code",
   "execution_count": 19,
   "id": "ba2ebe52-a6c2-4d82-8d0b-327ccd0f95d2",
   "metadata": {},
   "outputs": [
    {
     "name": "stdout",
     "output_type": "stream",
     "text": [
      "The Number 1 is odd.\n",
      "The number 2 is even.\n",
      "The Number 3 is odd.\n",
      "The number 4 is even.\n",
      "The Number 5 is odd.\n",
      "The number 6 is even.\n",
      "The Number 7 is odd.\n",
      "The number 8 is even.\n",
      "The Number 9 is odd.\n",
      "The number 10 is even.\n"
     ]
    }
   ],
   "source": [
    "for i in l:\n",
    "    print(evenodd(i))"
   ]
  },
  {
   "cell_type": "code",
   "execution_count": 20,
   "id": "6170ec13-16c4-4bae-bcf3-1fcc365cd0c2",
   "metadata": {},
   "outputs": [
    {
     "data": {
      "text/plain": [
       "<map at 0x259cbe4fdc0>"
      ]
     },
     "execution_count": 20,
     "metadata": {},
     "output_type": "execute_result"
    }
   ],
   "source": [
    "map(evenodd,l)"
   ]
  },
  {
   "cell_type": "code",
   "execution_count": 37,
   "id": "c1fe52f0-3a2c-44fe-8226-db480d77e60b",
   "metadata": {},
   "outputs": [
    {
     "name": "stdout",
     "output_type": "stream",
     "text": [
      "Python 3.11.7\n"
     ]
    }
   ],
   "source": [
    "!python --version"
   ]
  },
  {
   "cell_type": "code",
   "execution_count": 53,
   "id": "02d9a849-21c0-42f6-ad43-a4f7f9f3f619",
   "metadata": {},
   "outputs": [],
   "source": [
    "def evenodd(x):\n",
    "    return \"Even\" if x % 2 == 0 else \"Odd\"\n",
    "\n",
    "l = [1, 2, 3, 4, 5,6,7,8]\n",
    "mapped_result = map(evenodd, l)\n"
   ]
  },
  {
   "cell_type": "code",
   "execution_count": 54,
   "id": "85bcac44-146b-4fe9-baf0-426ae47150a9",
   "metadata": {},
   "outputs": [
    {
     "name": "stdout",
     "output_type": "stream",
     "text": [
      "Odd\n",
      "Even\n",
      "Odd\n",
      "Even\n",
      "Odd\n",
      "Even\n",
      "Odd\n",
      "Even\n"
     ]
    }
   ],
   "source": [
    "for result in mapped_result:\n",
    "    print(result)\n"
   ]
  },
  {
   "cell_type": "code",
   "execution_count": 51,
   "id": "3928606b-57b0-4934-98e8-13b1029d1126",
   "metadata": {},
   "outputs": [
    {
     "name": "stdout",
     "output_type": "stream",
     "text": [
      "\n"
     ]
    }
   ],
   "source": []
  },
  {
   "cell_type": "code",
   "execution_count": null,
   "id": "c8b1f8c4-6669-4e61-955b-9f2ae0c314d2",
   "metadata": {},
   "outputs": [],
   "source": []
  }
 ],
 "metadata": {
  "kernelspec": {
   "display_name": "Python 3 (ipykernel)",
   "language": "python",
   "name": "python3"
  },
  "language_info": {
   "codemirror_mode": {
    "name": "ipython",
    "version": 3
   },
   "file_extension": ".py",
   "mimetype": "text/x-python",
   "name": "python",
   "nbconvert_exporter": "python",
   "pygments_lexer": "ipython3",
   "version": "3.11.7"
  }
 },
 "nbformat": 4,
 "nbformat_minor": 5
}
