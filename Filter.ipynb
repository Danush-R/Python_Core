{
  "nbformat": 4,
  "nbformat_minor": 0,
  "metadata": {
    "colab": {
      "private_outputs": true,
      "provenance": []
    },
    "kernelspec": {
      "name": "python3",
      "display_name": "Python 3"
    },
    "language_info": {
      "name": "python"
    }
  },
  "cells": [
    {
      "cell_type": "markdown",
      "source": [
        "##Filter Function\n"
      ],
      "metadata": {
        "id": "NeY4olWeXwzT"
      }
    },
    {
      "cell_type": "code",
      "source": [
        "def even(num):\n",
        "    return num % 2 == 0\n",
        "\n",
        "lst = [1, 2, 3, 4, 5, 6, 7, 8, 9]\n",
        "even_numbers = list(filter(even, lst))\n",
        "print(even_numbers)\n"
      ],
      "metadata": {
        "id": "e-K72g4YnpKW"
      },
      "execution_count": null,
      "outputs": []
    },
    {
      "cell_type": "code",
      "source": [
        "def even(num):\n",
        "  if num % 2 == 0:\n",
        "    return True\n",
        "  else:\n",
        "    return False\n",
        "\n",
        "lst = [1, 2, 3, 4, 5, 6, 7, 8, 9,10,12,11,13,14,15]\n",
        "even_numbers = list(filter(even, lst))\n",
        "print(even_numbers)"
      ],
      "metadata": {
        "id": "MIBK4HOSn2mn"
      },
      "execution_count": null,
      "outputs": []
    },
    {
      "cell_type": "code",
      "source": [
        "list(filter(lambda num: num%2==0,lst))"
      ],
      "metadata": {
        "id": "UAjbEACzrXpe"
      },
      "execution_count": null,
      "outputs": []
    },
    {
      "cell_type": "code",
      "source": [
        "list(map(lambda num: num%2==0,lst))"
      ],
      "metadata": {
        "id": "fA3I2_8Ur0lf"
      },
      "execution_count": null,
      "outputs": []
    },
    {
      "cell_type": "code",
      "source": [],
      "metadata": {
        "id": "a-RSN4JDt8bd"
      },
      "execution_count": null,
      "outputs": []
    }
  ]
}