{
  "nbformat": 4,
  "nbformat_minor": 0,
  "metadata": {
    "colab": {
      "private_outputs": true,
      "provenance": []
    },
    "kernelspec": {
      "name": "python3",
      "display_name": "Python 3"
    },
    "language_info": {
      "name": "python"
    }
  },
  "cells": [
    {
      "cell_type": "markdown",
      "source": [
        "Python OOPS - Iterators vs Generators"
      ],
      "metadata": {
        "id": "tSJo-Gplyqbj"
      }
    },
    {
      "cell_type": "code",
      "source": [
        "##iterable\n",
        "lst=[1,2,3,4]\n",
        "for i in lst:\n",
        "    print(i)"
      ],
      "metadata": {
        "id": "SvHRBEhbZuOM"
      },
      "execution_count": null,
      "outputs": []
    },
    {
      "cell_type": "code",
      "source": [
        "iterable=iter(lst)"
      ],
      "metadata": {
        "id": "6zkT9v_XZwm0"
      },
      "execution_count": null,
      "outputs": []
    },
    {
      "cell_type": "code",
      "source": [
        "type(iterable)"
      ],
      "metadata": {
        "id": "aOlIUzF0ZyeV"
      },
      "execution_count": null,
      "outputs": []
    },
    {
      "cell_type": "code",
      "source": [
        "## We can iterate\n",
        "for i in iterable:\n",
        "    print(i)"
      ],
      "metadata": {
        "id": "Zm2nQ99yZ0xL"
      },
      "execution_count": null,
      "outputs": []
    },
    {
      "cell_type": "code",
      "source": [
        "try:\n",
        "    print(next(iterable))\n",
        "except StopIteration:\n",
        "    print(\"The iterator is empty\")"
      ],
      "metadata": {
        "id": "UYFT6IHvZ3bm"
      },
      "execution_count": null,
      "outputs": []
    },
    {
      "cell_type": "code",
      "source": [
        "### Generator\n",
        "def square(n):\n",
        "    for i in range(n):\n",
        "        yield i**2"
      ],
      "metadata": {
        "id": "nKD2DUelZ5sf"
      },
      "execution_count": null,
      "outputs": []
    },
    {
      "cell_type": "code",
      "source": [
        "for i in square(3):\n",
        "    print(i)"
      ],
      "metadata": {
        "id": "0SIlCRmXZ6jq"
      },
      "execution_count": null,
      "outputs": []
    },
    {
      "cell_type": "code",
      "source": [
        "a=square(3)\n",
        "a"
      ],
      "metadata": {
        "id": "PBrsVOB3Z-gU"
      },
      "execution_count": null,
      "outputs": []
    },
    {
      "cell_type": "code",
      "source": [
        "next(a)"
      ],
      "metadata": {
        "id": "gMWdjRzzaBFG"
      },
      "execution_count": null,
      "outputs": []
    },
    {
      "cell_type": "code",
      "source": [
        "# Difference\n",
        "# To create iterator we use iter() and to generator we use function along with yield keyword\n",
        "# Generator uses the yield keyword. It saves the local variable\n",
        "# Generator in python helps us top write fast and compact code\n",
        "# Python iterator is much more memory efficient"
      ],
      "metadata": {
        "id": "iA886Ee-aLSU"
      },
      "execution_count": null,
      "outputs": []
    },
    {
      "cell_type": "code",
      "source": [
        "import types\n",
        "from collections.abc import Iterator\n",
        "\n",
        "print(issubclass(types.GeneratorType, Iterator))\n"
      ],
      "metadata": {
        "id": "GTXjHPUpaRoO"
      },
      "execution_count": null,
      "outputs": []
    }
  ]
}