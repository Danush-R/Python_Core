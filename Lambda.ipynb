{
 "cells": [
  {
   "cell_type": "markdown",
   "id": "7f55b952-dedd-4d97-aa54-39b5bc5a7183",
   "metadata": {},
   "source": [
    "###lambda\n",
    "anonymous function\n",
    "a function with no name\n"
   ]
  },
  {
   "cell_type": "code",
   "execution_count": 1,
   "id": "03805eff-d624-4951-b111-0a6d1a998598",
   "metadata": {},
   "outputs": [
    {
     "data": {
      "text/plain": [
       "20"
      ]
     },
     "execution_count": 1,
     "metadata": {},
     "output_type": "execute_result"
    }
   ],
   "source": [
    "def add(a,b):\n",
    "    return a+b\n",
    "\n",
    "add(11,9)"
   ]
  },
  {
   "cell_type": "code",
   "execution_count": 3,
   "id": "58f7bc49-e650-44ff-b3f8-59d500efb03d",
   "metadata": {},
   "outputs": [
    {
     "data": {
      "text/plain": [
       "7"
      ]
     },
     "execution_count": 3,
     "metadata": {},
     "output_type": "execute_result"
    }
   ],
   "source": [
    "add = lambda a,b:a+b;\n",
    "add(3,4)"
   ]
  },
  {
   "cell_type": "code",
   "execution_count": 21,
   "id": "236b4740-89e4-475b-a9ca-c6f1f8f10557",
   "metadata": {},
   "outputs": [
    {
     "data": {
      "text/plain": [
       "'the number is odd'"
      ]
     },
     "execution_count": 21,
     "metadata": {},
     "output_type": "execute_result"
    }
   ],
   "source": [
    "def even(num):\n",
    "    if num %2==0:\n",
    "        return ('the number is even')\n",
    "    else:\n",
    "        return ('the number is odd')\n",
    "\n",
    "even(9)"
   ]
  },
  {
   "cell_type": "code",
   "execution_count": 23,
   "id": "ae5ec1c9-5b1e-4895-93a3-0d85a0167677",
   "metadata": {},
   "outputs": [
    {
     "data": {
      "text/plain": [
       "False"
      ]
     },
     "execution_count": 23,
     "metadata": {},
     "output_type": "execute_result"
    }
   ],
   "source": [
    "even = lambda a:a%2==0\n",
    "even(5)"
   ]
  },
  {
   "cell_type": "code",
   "execution_count": 25,
   "id": "3907d1ee-2bb8-40f0-bacc-b12b986a0f11",
   "metadata": {},
   "outputs": [
    {
     "data": {
      "text/plain": [
       "6"
      ]
     },
     "execution_count": 25,
     "metadata": {},
     "output_type": "execute_result"
    }
   ],
   "source": [
    "def b(x,y,z):\n",
    "    return x+y+z\n",
    "\n",
    "b(1,2,3)"
   ]
  },
  {
   "cell_type": "code",
   "execution_count": 28,
   "id": "107222d1-4e6b-4b69-b3d7-a50913de80be",
   "metadata": {},
   "outputs": [
    {
     "name": "stdout",
     "output_type": "stream",
     "text": [
      "The sum is: 3\n"
     ]
    }
   ],
   "source": [
    "c = lambda x, y, z: x + y + z\n",
    "print('The sum is:', c(1, 1, 1))"
   ]
  },
  {
   "cell_type": "code",
   "execution_count": 29,
   "id": "d45a8f38-d714-4ca8-bda1-591a96df65d5",
   "metadata": {},
   "outputs": [
    {
     "name": "stdout",
     "output_type": "stream",
     "text": [
      "15\n"
     ]
    }
   ],
   "source": [
    "multiply = lambda a, b: a * b\n",
    "print(multiply(5, 3))  # Output: 15"
   ]
  },
  {
   "cell_type": "code",
   "execution_count": 39,
   "id": "d74eaa16-2094-4053-bcfb-e28c6cbb690a",
   "metadata": {},
   "outputs": [
    {
     "name": "stdout",
     "output_type": "stream",
     "text": [
      "The number is Even\n",
      "The number is Odd\n"
     ]
    }
   ],
   "source": [
    "is_even = lambda x: \"Even\" if x % 2 == 0 else \"Odd\"\n",
    "print('The number is', is_even(4))  # Output: The number 4 is Even\n",
    "print('The number is', is_even(7))  # Output: The number 7 is Odd\n"
   ]
  },
  {
   "cell_type": "code",
   "execution_count": 47,
   "id": "b0c1c488-4ca2-4528-9ad2-a68fe32cbb9c",
   "metadata": {},
   "outputs": [
    {
     "name": "stdout",
     "output_type": "stream",
     "text": [
      "[1, 2, 3, 4, 5]\n",
      "[1, 4, 9, 16, 25]\n"
     ]
    }
   ],
   "source": [
    "numbers = [1, 2, 3, 4, 5]\n",
    "squared_numbers = list(map(lambda x: x ** 2, numbers))\n",
    "print(numbers)\n",
    "print(squared_numbers) "
   ]
  },
  {
   "cell_type": "code",
   "execution_count": 49,
   "id": "50cb3ce4-6823-41f2-a1bb-aebadf216bc9",
   "metadata": {},
   "outputs": [
    {
     "name": "stdout",
     "output_type": "stream",
     "text": [
      "[(4, 'four'), (1, 'one'), (3, 'three'), (2, 'two')]\n"
     ]
    }
   ],
   "source": [
    "pairs = [(1, 'one'), (2, 'two'), (3, 'three'), (4, 'four')]\n",
    "sorted_pairs = sorted(pairs, key=lambda x: x[1])\n",
    "print(sorted_pairs)\n"
   ]
  },
  {
   "cell_type": "code",
   "execution_count": null,
   "id": "62223eb2-340c-41f6-9460-da9d9105ccb7",
   "metadata": {},
   "outputs": [],
   "source": []
  },
  {
   "cell_type": "code",
   "execution_count": null,
   "id": "301559bf-8eec-40c2-aca0-fded246cf9ff",
   "metadata": {},
   "outputs": [],
   "source": []
  }
 ],
 "metadata": {
  "kernelspec": {
   "display_name": "Python 3 (ipykernel)",
   "language": "python",
   "name": "python3"
  },
  "language_info": {
   "codemirror_mode": {
    "name": "ipython",
    "version": 3
   },
   "file_extension": ".py",
   "mimetype": "text/x-python",
   "name": "python",
   "nbconvert_exporter": "python",
   "pygments_lexer": "ipython3",
   "version": "3.11.7"
  }
 },
 "nbformat": 4,
 "nbformat_minor": 5
}
