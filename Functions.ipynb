{
 "cells": [
  {
   "cell_type": "markdown",
   "id": "8f3066f3-7a87-4041-afa3-11521a374839",
   "metadata": {},
   "source": [
    "For, If,Functions\n",
    "\r\n",
    "Functions in Python. A function is a set of statements that take inputs, do some specific computation and produces output. These functions are called user defined function"
   ]
  },
  {
   "cell_type": "code",
   "execution_count": 6,
   "id": "32ffc850-ed95-47da-a819-c0e67098ab1e",
   "metadata": {},
   "outputs": [
    {
     "name": "stdout",
     "output_type": "stream",
     "text": [
      "Even\n"
     ]
    }
   ],
   "source": [
    "def a(number):\n",
    "    if number % 2 == 0:\n",
    "        return \"Even\"\n",
    "    else:\n",
    "        return \"Odd\"\n",
    "\n",
    "result = a(1546464968468888)\n",
    "print(result)  # Output: Odd\n"
   ]
  },
  {
   "cell_type": "code",
   "execution_count": 7,
   "id": "46bedc80-1ead-4c3e-b35c-ce03ccd0e929",
   "metadata": {},
   "outputs": [
    {
     "name": "stdout",
     "output_type": "stream",
     "text": [
      "Hello world , You are welcome\n"
     ]
    }
   ],
   "source": [
    "def hello_world():\n",
    "    print('Hello world , You are welcome')\n",
    "\n",
    "hello_world()"
   ]
  },
  {
   "cell_type": "code",
   "execution_count": 16,
   "id": "806c130e-0145-43fc-b205-ff1a36d7d004",
   "metadata": {},
   "outputs": [
    {
     "name": "stdout",
     "output_type": "stream",
     "text": [
      "8\n",
      "-2\n"
     ]
    },
    {
     "data": {
      "text/plain": [
       "(8, -2)"
      ]
     },
     "execution_count": 16,
     "metadata": {},
     "output_type": "execute_result"
    }
   ],
   "source": [
    "def add(a, b):\n",
    "    c = a + b\n",
    "    d = a - b\n",
    "    print(c)  # This should be indented to be part of the function\n",
    "    print(d)  # This should be indented to be part of the function\n",
    "    return c,d\n",
    "\n",
    "add(3, 5)"
   ]
  },
  {
   "cell_type": "code",
   "execution_count": 20,
   "id": "47f31677-9323-40a8-af7a-c23d11866f66",
   "metadata": {},
   "outputs": [
    {
     "name": "stdout",
     "output_type": "stream",
     "text": [
      "My name is danush and age is 55\n"
     ]
    }
   ],
   "source": [
    "def hello(name,age):\n",
    "    print('My name is {} and age is {}'.format(name,age))\n",
    "\n",
    "hello('danush',55)"
   ]
  },
  {
   "cell_type": "code",
   "execution_count": null,
   "id": "2483c1d6-8609-4493-8d65-45b9e705208f",
   "metadata": {},
   "outputs": [],
   "source": [
    "# # e function hello(*args, **kwargs) is designed to accept a variable number of positional arguments \n",
    "# (*args) and keyword arguments (**kwargs). Here's a breakdown:\n",
    "\n",
    "# # *args\n",
    "# # *args allows the function to accept any number of positional arguments. \n",
    "# Inside the function, args is treated as a tuple that contains all the positional arguments passed to the function.\n",
    "# # **kwargs\n",
    "# # **kwargs allows the function to accept any number of keyword arguments. \n",
    "#     Inside the function, kwargs is treated as a dictionary where the keys are the argument names and the values are the argument values."
   ]
  },
  {
   "cell_type": "code",
   "execution_count": 28,
   "id": "82848de2-7237-4366-b6d3-3b522a02b09f",
   "metadata": {},
   "outputs": [
    {
     "name": "stdout",
     "output_type": "stream",
     "text": [
      "('krish', 'Danush')\n",
      "{'age': 55, 'dob': 5515}\n"
     ]
    }
   ],
   "source": [
    "def hello(*args,**kwargs):\n",
    "    print(args)\n",
    "    print(kwargs)\n",
    "hello('krish','Danush',age=55,dob=5515)"
   ]
  },
  {
   "cell_type": "code",
   "execution_count": 33,
   "id": "1d602ee1-c73e-4bee-be76-bfd0dd93652d",
   "metadata": {},
   "outputs": [
    {
     "name": "stdout",
     "output_type": "stream",
     "text": [
      "('Danush', 'Naik')\n",
      "{'age': 29, 'dob': 1990}\n"
     ]
    }
   ],
   "source": [
    "list=['Danush','Naik']\n",
    "dict_args={'age': 29,'dob': 1990}\n",
    "hello(*list,**dict_args)"
   ]
  },
  {
   "cell_type": "code",
   "execution_count": null,
   "id": "f6673bda-9d84-46d8-8bfb-e809275fde51",
   "metadata": {},
   "outputs": [],
   "source": [
    "list=[4,45,8,5,7,2,8,2]\n",
    "evensum=0\n",
    "oddsum=0\n",
    "def evenoddsum(list):\n",
    "    for i in list:\n",
    "        if i %2==0\n",
    "        evensum=evensum+i\n",
    "        else:\n",
    "        oddsum=oddsum+i\n"
   ]
  },
  {
   "cell_type": "code",
   "execution_count": null,
   "id": "e81f6f82-76ea-496b-81c9-20901fc29580",
   "metadata": {},
   "outputs": [],
   "source": []
  },
  {
   "cell_type": "code",
   "execution_count": 4,
   "id": "7882505f-9c0d-452f-93d3-35a07e293b7d",
   "metadata": {},
   "outputs": [
    {
     "name": "stdout",
     "output_type": "stream",
     "text": [
      "The Sum of Even is: 56\n",
      "The Sum of Odd is: 53\n"
     ]
    }
   ],
   "source": [
    "## If conditions  and for loops\n",
    "\n",
    "lst=[1,2,3,4,5,6,7,8,9,10,12,13,14,15]\n",
    "\n",
    "even_sum=0\n",
    "odd_sum=0\n",
    "for i in lst:\n",
    "    if i%2==0:\n",
    "        even_sum=even_sum+i\n",
    "    else:\n",
    "        odd_sum=odd_sum+i\n",
    "print('The Sum of Even is:',even_sum)\n",
    "print('The Sum of Odd is:',odd_sum)"
   ]
  },
  {
   "cell_type": "code",
   "execution_count": null,
   "id": "3713e1aa-cdac-4de7-87e7-1027dd6d239b",
   "metadata": {},
   "outputs": [],
   "source": []
  },
  {
   "cell_type": "code",
   "execution_count": null,
   "id": "342d35ac-9e4d-4190-a733-890ce8fcdd90",
   "metadata": {},
   "outputs": [],
   "source": []
  },
  {
   "cell_type": "code",
   "execution_count": null,
   "id": "b1477dab-950a-40de-8e27-0afd204cc64c",
   "metadata": {},
   "outputs": [],
   "source": []
  },
  {
   "cell_type": "code",
   "execution_count": null,
   "id": "76eee464-3170-4e5c-8cbe-6be67b308e41",
   "metadata": {},
   "outputs": [],
   "source": []
  },
  {
   "cell_type": "code",
   "execution_count": null,
   "id": "08e2fc01-11a7-43e7-94f6-fe03d51bd8c7",
   "metadata": {},
   "outputs": [],
   "source": []
  }
 ],
 "metadata": {
  "kernelspec": {
   "display_name": "Python 3 (ipykernel)",
   "language": "python",
   "name": "python3"
  },
  "language_info": {
   "codemirror_mode": {
    "name": "ipython",
    "version": 3
   },
   "file_extension": ".py",
   "mimetype": "text/x-python",
   "name": "python",
   "nbconvert_exporter": "python",
   "pygments_lexer": "ipython3",
   "version": "3.11.7"
  }
 },
 "nbformat": 4,
 "nbformat_minor": 5
}
