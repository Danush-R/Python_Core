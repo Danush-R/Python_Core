{
  "nbformat": 4,
  "nbformat_minor": 0,
  "metadata": {
    "colab": {
      "private_outputs": true,
      "provenance": []
    },
    "kernelspec": {
      "name": "python3",
      "display_name": "Python 3"
    },
    "language_info": {
      "name": "python"
    }
  },
  "cells": [
    {
      "cell_type": "markdown",
      "source": [
        "##Python Exception Handling"
      ],
      "metadata": {
        "id": "KLr5G-QGn5TV"
      }
    },
    {
      "cell_type": "code",
      "source": [
        "try:\n",
        "  a=b\n",
        "except:\n",
        "  print(\"An exception occurred\")"
      ],
      "metadata": {
        "id": "2E6Tj_EHnvCw"
      },
      "execution_count": null,
      "outputs": []
    },
    {
      "cell_type": "code",
      "source": [
        "try:\n",
        "  a=b\n",
        "except Exception as ex:\n",
        "  print(ex)"
      ],
      "metadata": {
        "id": "lDVRU2Mioxn_"
      },
      "execution_count": null,
      "outputs": []
    },
    {
      "cell_type": "code",
      "source": [
        "# Highest Exception class is exception itself"
      ],
      "metadata": {
        "id": "9lN0g9_znvPr"
      },
      "execution_count": null,
      "outputs": []
    },
    {
      "cell_type": "code",
      "source": [
        "try:\n",
        "  a=b\n",
        "except Exception as ex:\n",
        "  print(ex)"
      ],
      "metadata": {
        "id": "O8hKby7Snvb6"
      },
      "execution_count": null,
      "outputs": []
    },
    {
      "cell_type": "code",
      "source": [
        "a=b"
      ],
      "metadata": {
        "id": "t3Q54j1QnvmO"
      },
      "execution_count": null,
      "outputs": []
    },
    {
      "cell_type": "code",
      "source": [
        "try:\n",
        "  a=b\n",
        "except NameError as ex1:\n",
        "  print(\"The user have not defined the variable\")\n",
        "except Exception as ex:\n",
        "  print(ex)"
      ],
      "metadata": {
        "id": "wl-pIdh5pd6g"
      },
      "execution_count": null,
      "outputs": []
    },
    {
      "cell_type": "code",
      "source": [
        "try:\n",
        "  a=1\n",
        "  b='s'\n",
        "  c=a+b\n",
        "except NameError as ex1:\n",
        "  print(\"The user have not defined the variable\")\n",
        "except Exception as ex:\n",
        "  print(ex)"
      ],
      "metadata": {
        "id": "kqOgmzkwpzhW"
      },
      "execution_count": null,
      "outputs": []
    },
    {
      "cell_type": "code",
      "source": [
        "try:\n",
        "  a=1\n",
        "  b='s'\n",
        "  c=a+b\n",
        "\n",
        "except NameError:\n",
        "  print(\"The user have not defined the variable\")\n",
        "except TypeError:\n",
        "  print(\"Change Data type similar \")\n",
        "\n",
        "except Exception as ex:\n",
        "  print(ex)"
      ],
      "metadata": {
        "id": "k2hrXiFAp5SE"
      },
      "execution_count": null,
      "outputs": []
    },
    {
      "cell_type": "code",
      "source": [
        "try:\n",
        "  a=int(input(\"Enter the number 1: \"))\n",
        "  b=a=int(input(\"Enter the number 2: \"))\n",
        "  c=a+b\n",
        "  d=a-b\n",
        "  e=a*b\n",
        "  f=a/b\n",
        "  print(c)\n",
        "  print(d)\n",
        "  print(e)\n",
        "  print(f)\n",
        "\n",
        "\n",
        "except NameError:\n",
        "  print(\"The user have not defined the variable\")\n",
        "except TypeError:\n",
        "  print(\"Change Data type similar \")\n",
        "\n",
        "except Exception as ex:\n",
        "  print(ex)"
      ],
      "metadata": {
        "id": "1SHuHZpAqODZ"
      },
      "execution_count": null,
      "outputs": []
    },
    {
      "cell_type": "code",
      "source": [
        "try:\n",
        "  a=int(input(\"Enter the number 1: \"))\n",
        "  b=a=int(input(\"Enter the number 2: \"))\n",
        "  c=a+b\n",
        "  d=a-b\n",
        "  e=a*b\n",
        "  f=a/b\n",
        "  print(c)\n",
        "  print(d)\n",
        "  print(e)\n",
        "  print(f)\n",
        "\n",
        "\n",
        "except NameError:\n",
        "  print(\"The user have not defined the variable\")\n",
        "except TypeError:\n",
        "  print(\"Change Data type similar \")\n",
        "\n",
        "except Exception as ex:\n",
        "  print(ex)"
      ],
      "metadata": {
        "id": "XQm4AuDMq96F"
      },
      "execution_count": null,
      "outputs": []
    },
    {
      "cell_type": "code",
      "source": [
        "try:\n",
        "  a=int(input(\"Enter the number 1: \"))\n",
        "  b=a=int(input(\"Enter the number 2: \"))\n",
        "  c=a+b\n",
        "  d=a-b\n",
        "  e=a*b\n",
        "  f=a/b\n",
        "  print(c)\n",
        "  print(d)\n",
        "  print(e)\n",
        "  print(f)\n",
        "\n",
        "\n",
        "except NameError:\n",
        "  print(\"The user have not defined the variable\")\n",
        "except TypeError:\n",
        "  print(\"Change Data type similar \")\n",
        "except ZeroDivisionError:\n",
        "  print(\" Please enter number greater than 0\")\n",
        "\n",
        "\n",
        "except Exception as ex:\n",
        "  print(ex)\n",
        ""
      ],
      "metadata": {
        "id": "LSlhPAhirHUO"
      },
      "execution_count": null,
      "outputs": []
    },
    {
      "cell_type": "code",
      "source": [
        "#try else block\n",
        "\n",
        "\n",
        "try:\n",
        "    a = int(input(\"Enter number 1: \"))\n",
        "    b = int(input(\"Enter number 2: \"))\n",
        "    c = a + b\n",
        "    d = a - b\n",
        "    e = a * b\n",
        "    f = a / b\n",
        "\n",
        "except NameError:\n",
        "    print(\"The user has not defined the variable.\")\n",
        "except TypeError:\n",
        "    print(\"Please ensure the data types are compatible.\")\n",
        "except ZeroDivisionError:\n",
        "    print(\"Division by zero is not allowed. Please enter a number greater than 0 for the second input.\")\n",
        "except Exception as ex:\n",
        "    print(f\"An unexpected error occurred: {ex}\")\n",
        "\n",
        "else:\n",
        "    print(\"Addition:\", c)\n",
        "    print(\"Subtraction:\", d)\n",
        "    print(\"Multiplication:\", e)\n",
        "    print(\"Division:\", f)\n"
      ],
      "metadata": {
        "id": "F9PCh9mk4srW"
      },
      "execution_count": null,
      "outputs": []
    },
    {
      "cell_type": "code",
      "source": [
        "#try else block\n",
        "\n",
        "\n",
        "try:\n",
        "    a = int(input(\"Enter number 1: \"))\n",
        "    b = int(input(\"Enter number 2: \"))\n",
        "    c = a + b\n",
        "    d = a - b\n",
        "    e = a * b\n",
        "    f = a / b\n",
        "\n",
        "except NameError:\n",
        "    print(\"The user has not defined the variable.\")\n",
        "except TypeError:\n",
        "    print(\"Please ensure the data types are compatible.\")\n",
        "except ZeroDivisionError:\n",
        "    print(\"Division by zero is not allowed. Please enter a number greater than 0 for the second input.\")\n",
        "except Exception as ex:\n",
        "    print(f\"An unexpected error occurred: {ex}\")\n",
        "\n",
        "else:\n",
        "    print(\"Addition:\", c)\n",
        "    print(\"Subtraction:\", d)\n",
        "    print(\"Multiplication:\", e)\n",
        "    print(\"Division:\", f)\n",
        "\n",
        "\n",
        "#when exception is executed else block will not be executed0"
      ],
      "metadata": {
        "id": "VxSoLMBf4suI"
      },
      "execution_count": null,
      "outputs": []
    },
    {
      "cell_type": "code",
      "source": [
        "#try else block\n",
        "\n",
        "\n",
        "try:\n",
        "    a = int(input(\"Enter number 1: \"))\n",
        "    b = int(input(\"Enter number 2: \"))\n",
        "    c = a + b\n",
        "    d = a - b\n",
        "    e = a * b\n",
        "    f = a / b\n",
        "\n",
        "except NameError:\n",
        "    print(\"The user has not defined the variable.\")\n",
        "except TypeError:\n",
        "    print(\"Please ensure the data types are compatible.\")\n",
        "except ZeroDivisionError:\n",
        "    print(\"Division by zero is not allowed. Please enter a number greater than 0 for the second input.\")\n",
        "except Exception as ex:\n",
        "    print(f\"An unexpected error occurred: {ex}\")\n",
        "\n",
        "else:\n",
        "    print(\"Addition:\", c)\n",
        "    print(\"Subtraction:\", d)\n",
        "    print(\"Multiplication:\", e)\n",
        "    print(\"Division:\", f)\n",
        "finally:\n",
        "  print(\"The execution is done\")\n",
        "\n",
        "\n",
        "#when exception is executed else block will not be executed0"
      ],
      "metadata": {
        "id": "RC8SsOkA4swI"
      },
      "execution_count": null,
      "outputs": []
    },
    {
      "cell_type": "code",
      "source": [
        "#try else block\n",
        "\n",
        "\n",
        "try:\n",
        "    a = int(input(\"Enter number 1: \"))\n",
        "    b = int(input(\"Enter number 2: \"))\n",
        "    c = a + b\n",
        "    d = a - b\n",
        "    e = a * b\n",
        "    f = a / b\n",
        "\n",
        "except NameError:\n",
        "    print(\"The user has not defined the variable.\")\n",
        "except TypeError:\n",
        "    print(\"Please ensure the data types are compatible.\")\n",
        "except ZeroDivisionError:\n",
        "    print(\"Division by zero is not allowed. Please enter a number greater than 0 for the second input.\")\n",
        "except Exception as ex:\n",
        "    print(f\"An unexpected error occurred: {ex}\")\n",
        "\n",
        "else:\n",
        "    print(\"Addition:\", c)\n",
        "    print(\"Subtraction:\", d)\n",
        "    print(\"Multiplication:\", e)\n",
        "    print(\"Division:\", f)\n",
        "finally:\n",
        "  print(\"The execution is done\")\n",
        "\n",
        "\n",
        "#Finally the execution block will executed even exception executed"
      ],
      "metadata": {
        "id": "EzLoCh6J7zve"
      },
      "execution_count": null,
      "outputs": []
    }
  ]
}