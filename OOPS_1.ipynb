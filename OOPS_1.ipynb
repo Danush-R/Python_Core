{
  "nbformat": 4,
  "nbformat_minor": 0,
  "metadata": {
    "colab": {
      "private_outputs": true,
      "provenance": []
    },
    "kernelspec": {
      "name": "python3",
      "display_name": "Python 3"
    },
    "language_info": {
      "name": "python"
    }
  },
  "cells": [
    {
      "cell_type": "code",
      "source": [],
      "metadata": {
        "id": "QNiKDtuaF0D2"
      },
      "execution_count": null,
      "outputs": []
    },
    {
      "cell_type": "markdown",
      "source": [
        "##OOPS classes, variables, methods\n"
      ],
      "metadata": {
        "id": "74LWs5AoF3Lx"
      }
    },
    {
      "cell_type": "code",
      "source": [
        "class car:\n",
        "  pass\n",
        "car"
      ],
      "metadata": {
        "id": "gnks1kIDF8VL"
      },
      "execution_count": null,
      "outputs": []
    },
    {
      "cell_type": "code",
      "source": [
        "car1=car()\n",
        "print(car1)"
      ],
      "metadata": {
        "id": "N6dMRsfTF_Hz"
      },
      "execution_count": null,
      "outputs": []
    },
    {
      "cell_type": "code",
      "source": [
        "#defining objects for the class\n",
        "car1.windows=5\n",
        "car1.doors=4"
      ],
      "metadata": {
        "id": "Th4Qi4r2GItu"
      },
      "execution_count": null,
      "outputs": []
    },
    {
      "cell_type": "code",
      "source": [
        "#calling the objects\n",
        "car1.windows\n",
        "car1.doors"
      ],
      "metadata": {
        "id": "knAGmER0GTAz"
      },
      "execution_count": null,
      "outputs": []
    },
    {
      "cell_type": "code",
      "source": [
        "#another instance\n",
        "car2=car()\n",
        "car2.tyres=4\n",
        "car2.passengers=5\n",
        "print('the number of tyres in car2 is',car2.tyres)\n",
        "print('the number of passengers in car2 is',car2.passengers)"
      ],
      "metadata": {
        "id": "Y-fKYGv-GcvD"
      },
      "execution_count": null,
      "outputs": []
    },
    {
      "cell_type": "code",
      "source": [
        "car2.enginetype=\"Petrol\""
      ],
      "metadata": {
        "id": "q3zyy5s4GwMA"
      },
      "execution_count": null,
      "outputs": []
    },
    {
      "cell_type": "code",
      "source": [
        "print('the type of car engine is',car2.enginetype)"
      ],
      "metadata": {
        "id": "BQtT044OHDXj"
      },
      "execution_count": null,
      "outputs": []
    },
    {
      "cell_type": "code",
      "source": [
        "dir(car1)"
      ],
      "metadata": {
        "id": "EmRe1J9THMPf"
      },
      "execution_count": null,
      "outputs": []
    },
    {
      "cell_type": "code",
      "source": [
        "#constructor using self parameter\n",
        "class car:\n",
        "  def __init__(self,window,door,enginetype):\n",
        "    self.windows=window\n",
        "    self.doors=door\n",
        "    self.enginetype=enginetype"
      ],
      "metadata": {
        "id": "P9G6NgVRHSDa"
      },
      "execution_count": null,
      "outputs": []
    },
    {
      "cell_type": "code",
      "source": [
        "car1=car(4,5,'petrol')\n",
        "car2=car(2,3,'Diesel')"
      ],
      "metadata": {
        "id": "WSyzv57xHrT1"
      },
      "execution_count": null,
      "outputs": []
    },
    {
      "cell_type": "code",
      "source": [
        "print('The number of windows in car1 is',car1.windows)\n",
        "print('The number of windows in car2 is',car2.windows)"
      ],
      "metadata": {
        "id": "XlfaEOjTHsSa"
      },
      "execution_count": null,
      "outputs": []
    },
    {
      "cell_type": "code",
      "source": [
        "print('Engine type of  car1 is',car1.enginetype)\n",
        "print('Engine type of  car2 is',car2.enginetype)"
      ],
      "metadata": {
        "id": "JX_dnd9vIeHg"
      },
      "execution_count": null,
      "outputs": []
    },
    {
      "cell_type": "code",
      "source": [
        "#constructor using self parameter\n",
        "class car:\n",
        "  def __init__(self,window,door,enginetype):\n",
        "    self.windows=window\n",
        "    self.doors=door\n",
        "    self.enginetype=enginetype\n",
        "  def self_driving(self):\n",
        "    return \"This is a {} car\".format(self.enginetype)"
      ],
      "metadata": {
        "id": "3aVNQar5JBID"
      },
      "execution_count": null,
      "outputs": []
    },
    {
      "cell_type": "code",
      "source": [
        "car1=car(4,5,'petrol')\n",
        "car2=car(2,3,'Diesel')\n",
        "print(car1.self_driving())\n",
        "print(car2.self_driving())"
      ],
      "metadata": {
        "id": "d65NzehQJJ58"
      },
      "execution_count": null,
      "outputs": []
    },
    {
      "cell_type": "code",
      "source": [
        "# all the class variables are public\n",
        "class Car():\n",
        "  def __init__(self,windows,doors,enginetype):\n",
        "    self.windows=windows\n",
        "    self.doors=doors\n",
        "    self.enginetype=enginetype\n",
        "\n",
        "  def drive(self):\n",
        "    print(\"The Person 1 is driving the car\")"
      ],
      "metadata": {
        "id": "MtItti98JO1A"
      },
      "execution_count": null,
      "outputs": []
    },
    {
      "cell_type": "code",
      "source": [
        "car=Car(4,5,'Petrol')\n",
        "print(car.windows)\n",
        "print(car.enginetype)"
      ],
      "metadata": {
        "id": "nSr9ZoG2WdZ0"
      },
      "execution_count": null,
      "outputs": []
    },
    {
      "cell_type": "code",
      "source": [
        "dir(car)"
      ],
      "metadata": {
        "id": "KrTrno6dXQC3"
      },
      "execution_count": null,
      "outputs": []
    },
    {
      "cell_type": "code",
      "source": [
        "car.drive()"
      ],
      "metadata": {
        "id": "Ms3elgt5ZJ_Q"
      },
      "execution_count": null,
      "outputs": []
    },
    {
      "cell_type": "code",
      "source": [
        "class Car:\n",
        "    def __init__(self, windows, doors, engine_type):\n",
        "        self.windows = windows  # Public attribute for car windows\n",
        "        self.doors = doors      # Public attribute for car doors\n",
        "        self.engine_type = engine_type  # Public attribute for engine type\n",
        "\n",
        "    def drive(self):\n",
        "        print(f\"The Person 1 is driving the {self.engine_type} car with {self.doors} doors and {self.windows} windows.\")\n",
        "\n",
        "# Create a Car object\n",
        "my_car = Car(4, 5, \"Petrol\")  # Specify appropriate values\n",
        "\n",
        "# Call the drive method on the car object\n",
        "my_car.drive()"
      ],
      "metadata": {
        "id": "m1yFw2QoXRup"
      },
      "execution_count": null,
      "outputs": []
    },
    {
      "cell_type": "code",
      "source": [
        "class audi(Car):\n",
        "    def __init__(self, windows, doors, engine_type, enable_ai):\n",
        "        super().__init__(windows, doors, engine_type)\n",
        "        self.enable_ai = enable_ai\n",
        "\n",
        "    def selfdriving(self):\n",
        "        print(\"Audi supports self-driving\")\n",
        "\n",
        "audi1 = audi(5, 4, \"Petrol\", True)"
      ],
      "metadata": {
        "id": "tjOuozKfZZl1"
      },
      "execution_count": null,
      "outputs": []
    },
    {
      "cell_type": "code",
      "source": [
        "audi1.selfdriving()\n",
        "audi1.doors\n",
        "audi1.windows"
      ],
      "metadata": {
        "id": "-zscgRGuftc-"
      },
      "execution_count": null,
      "outputs": []
    },
    {
      "cell_type": "code",
      "source": [
        "class Person:\n",
        "  def __init__(self, fname, lname):\n",
        "    self.firstname = fname\n",
        "    self.lastname = lname\n",
        "\n",
        "  def printname(self):\n",
        "    print(self.firstname, self.lastname)\n",
        "\n",
        "#Use the Person class to create an object, and then execute the printname method:\n",
        "\n",
        "x = Person(\"Danush\", \"Data Analyst\")\n",
        "x.printname()"
      ],
      "metadata": {
        "id": "AyZO-OSViZdd"
      },
      "execution_count": null,
      "outputs": []
    },
    {
      "cell_type": "code",
      "source": [
        "class Student(Person):\n",
        "  pass\n",
        "x = Student(\"Mike\", \"Olsen\")\n",
        "x.printname()"
      ],
      "metadata": {
        "id": "NT2-R-P1ijnO"
      },
      "execution_count": null,
      "outputs": []
    },
    {
      "cell_type": "code",
      "source": [
        "Add the __init__() Function\n",
        "So far we have created a child class that inherits the properties and methods from its parent.\n",
        "\n",
        "We want to add the __init__() function to the child class (instead of the pass keyword).\n"
      ],
      "metadata": {
        "id": "FnC4nueKi0D9"
      },
      "execution_count": null,
      "outputs": []
    },
    {
      "cell_type": "code",
      "source": [
        "# Assuming the Person class is defined as follows\n",
        "class Person:\n",
        "    def __init__(self, fname, lname):\n",
        "        self.fname = fname\n",
        "        self.lname = lname\n",
        "\n",
        "# Defining the Student class which inherits from Person\n",
        "class Student(Person):\n",
        "    def __init__(self, fname, lname):\n",
        "        super().__init__(fname, lname)\n",
        "\n",
        "# Creating an instance of Student\n",
        "stud = Student('danush', 'r')\n",
        "\n",
        "# Accessing instance attributes\n",
        "print(stud.fname)  # Outputs: danush\n",
        "print(stud.lname)  # Outputs: r"
      ],
      "metadata": {
        "id": "GzJxkijPi3xu"
      },
      "execution_count": null,
      "outputs": []
    },
    {
      "cell_type": "code",
      "source": [
        "class Person:\n",
        "    def __init__(self, fname, lname):\n",
        "        self.fname = fname\n",
        "        self.lname = lname\n",
        "\n",
        "class Student(Person):\n",
        "    def __init__(self, fname, lname, year):\n",
        "        super().__init__(fname, lname)\n",
        "        self.graduationyear = year\n",
        "\n",
        "# Creating an instance of Student\n",
        "x = Student(\"Mike\", \"Olsen\", 2019)\n",
        "\n",
        "# Accessing attributes\n",
        "print(f\"First Name: {x.fname}\")  # Outputs: Mike\n",
        "print(f\"Last Name: {x.lname}\")   # Outputs: Olsen\n",
        "print(f\"Graduation Year: {x.graduationyear}\")  # Outputs: 2019\n"
      ],
      "metadata": {
        "id": "i8Ws1a3lj3FI"
      },
      "execution_count": null,
      "outputs": []
    },
    {
      "cell_type": "code",
      "source": [
        "#Adding Methods\n",
        "\n",
        "class Person:\n",
        "    def __init__(self, fname, lname):\n",
        "        self.fname = fname\n",
        "        self.lname = lname\n",
        "\n",
        "class Student(Person):\n",
        "    def __init__(self, fname, lname, year):\n",
        "        super().__init__(fname, lname)\n",
        "        self.graduationyear = year\n",
        "\n",
        "    def welcome(self):\n",
        "        print(f\"Welcome {self.fname} {self.lname} to the class of {self.graduationyear}\")\n",
        "\n",
        "# Example usage\n",
        "x = Student(\"Mike\", \"Olsen\", 2019)\n",
        "x.welcome()  # Outputs: Welcome Mike Olsen to the class of 2019\n"
      ],
      "metadata": {
        "id": "TO_RxC7vj-hz"
      },
      "execution_count": null,
      "outputs": []
    }
  ]
}