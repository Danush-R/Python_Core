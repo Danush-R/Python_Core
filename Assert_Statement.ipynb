{
  "nbformat": 4,
  "nbformat_minor": 0,
  "metadata": {
    "colab": {
      "private_outputs": true,
      "provenance": []
    },
    "kernelspec": {
      "name": "python3",
      "display_name": "Python 3"
    },
    "language_info": {
      "name": "python"
    }
  },
  "cells": [
    {
      "cell_type": "markdown",
      "source": [
        "Python OOPS - Assert Statement"
      ],
      "metadata": {
        "id": "tSJo-Gplyqbj"
      }
    },
    {
      "cell_type": "code",
      "source": [
        "num = 10\n",
        "assert num>=10"
      ],
      "metadata": {
        "id": "sgnBoD_T5I3w"
      },
      "execution_count": null,
      "outputs": []
    },
    {
      "cell_type": "code",
      "source": [
        "num = 10\n",
        "assert num>10"
      ],
      "metadata": {
        "id": "INNZSVKi5R3R"
      },
      "execution_count": null,
      "outputs": []
    },
    {
      "cell_type": "code",
      "source": [
        "try:\n",
        "    num = int(input(\"Enter the number: \"))  # Correct input usage\n",
        "    assert num % 2 == 0  # Check if the number is even\n",
        "    print(\"The number is even\")\n",
        "except AssertionError:\n",
        "    print(\"The number is odd\")\n",
        "except ValueError:\n",
        "    print(\"Invalid input! Please enter a valid number.\")"
      ],
      "metadata": {
        "id": "YCa4GkpT5Y96"
      },
      "execution_count": null,
      "outputs": []
    }
  ]
}