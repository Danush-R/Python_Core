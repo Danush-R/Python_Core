{
  "nbformat": 4,
  "nbformat_minor": 0,
  "metadata": {
    "colab": {
      "private_outputs": true,
      "provenance": []
    },
    "kernelspec": {
      "name": "python3",
      "display_name": "Python 3"
    },
    "language_info": {
      "name": "python"
    }
  },
  "cells": [
    {
      "cell_type": "markdown",
      "source": [
        "Python OOPS - Inheritance"
      ],
      "metadata": {
        "id": "tSJo-Gplyqbj"
      }
    },
    {
      "cell_type": "code",
      "source": [
        "#Blueprint of the car and its basic info.\n",
        "class Car():\n",
        "  def __init__(self,windows,doors,enginetype):\n",
        "    self.windows=windows\n",
        "    self.doors=doors\n",
        "    self.enginetype=enginetype\n",
        "\n",
        "  def drive(self):\n",
        "    print(\"the person drives the car\")\n"
      ],
      "metadata": {
        "id": "UbM9xNSCypz2"
      },
      "execution_count": null,
      "outputs": []
    },
    {
      "cell_type": "code",
      "source": [
        "car=Car(4,5,\"diesel\")"
      ],
      "metadata": {
        "id": "ZaNQZ383zOQ0"
      },
      "execution_count": null,
      "outputs": []
    },
    {
      "cell_type": "code",
      "source": [],
      "metadata": {
        "id": "3njW6DxMzv2P"
      },
      "execution_count": null,
      "outputs": []
    },
    {
      "cell_type": "code",
      "source": [
        "car.windows"
      ],
      "metadata": {
        "id": "w1HfbaPfzVGC"
      },
      "execution_count": null,
      "outputs": []
    },
    {
      "cell_type": "code",
      "source": [
        "dir(car)"
      ],
      "metadata": {
        "id": "iwnAcC1bzaNH"
      },
      "execution_count": null,
      "outputs": []
    },
    {
      "cell_type": "code",
      "source": [
        "car.enginetype"
      ],
      "metadata": {
        "id": "WzvfrMv2zk-X"
      },
      "execution_count": null,
      "outputs": []
    },
    {
      "cell_type": "code",
      "source": [
        "car.drive()"
      ],
      "metadata": {
        "id": "q44j-zNFzx2S"
      },
      "execution_count": null,
      "outputs": []
    },
    {
      "cell_type": "code",
      "source": [
        "#inheriting from the previous class\n",
        "class audi(Car):\n",
        "  def __init__(self,windows,doors,enginetype,enableai):\n",
        "    super().__init__(windows,doors,enginetype)\n",
        "    self.enableai=enableai\n",
        "\n",
        "  def selfdriving(self):\n",
        "    print(\"Audi Supports self driving\")"
      ],
      "metadata": {
        "id": "M83nZjL80iYD"
      },
      "execution_count": null,
      "outputs": []
    },
    {
      "cell_type": "code",
      "source": [
        "audi1=audi(5,6,\"diesel\",\"True\")"
      ],
      "metadata": {
        "id": "hxo0-RZS1mzM"
      },
      "execution_count": null,
      "outputs": []
    },
    {
      "cell_type": "code",
      "source": [
        "audi1.selfdriving()\n",
        "audi1.enableai"
      ],
      "metadata": {
        "id": "WYdTCfGm1jJA"
      },
      "execution_count": null,
      "outputs": []
    },
    {
      "cell_type": "code",
      "source": [
        "dir(audi1)"
      ],
      "metadata": {
        "id": "G62blqiN16eV"
      },
      "execution_count": null,
      "outputs": []
    },
    {
      "cell_type": "code",
      "source": [
        "audi1.windows"
      ],
      "metadata": {
        "id": "n_IDQhgW19b-"
      },
      "execution_count": null,
      "outputs": []
    },
    {
      "cell_type": "code",
      "source": [
        "audi1.enginetype"
      ],
      "metadata": {
        "id": "Ag2HfM7v2MiP"
      },
      "execution_count": null,
      "outputs": []
    },
    {
      "cell_type": "code",
      "source": [
        "audi1.doors"
      ],
      "metadata": {
        "id": "msz6qvX92N9C"
      },
      "execution_count": null,
      "outputs": []
    },
    {
      "cell_type": "code",
      "source": [
        "audi1.enableai"
      ],
      "metadata": {
        "id": "43HxlPV52Pai"
      },
      "execution_count": null,
      "outputs": []
    },
    {
      "cell_type": "code",
      "source": [
        "type(audi1.enableai)"
      ],
      "metadata": {
        "id": "gskao5ZH2QPU"
      },
      "execution_count": null,
      "outputs": []
    },
    {
      "cell_type": "code",
      "source": [
        "type(audi1.doors)"
      ],
      "metadata": {
        "id": "flNOHkbv2Tdb"
      },
      "execution_count": null,
      "outputs": []
    }
  ]
}