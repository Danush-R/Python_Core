{
  "nbformat": 4,
  "nbformat_minor": 0,
  "metadata": {
    "colab": {
      "private_outputs": true,
      "provenance": []
    },
    "kernelspec": {
      "name": "python3",
      "display_name": "Python 3"
    },
    "language_info": {
      "name": "python"
    }
  },
  "cells": [
    {
      "cell_type": "code",
      "source": [
        "v='Hi Alexa'\n",
        "print(v)"
      ],
      "metadata": {
        "id": "wAGgwegJiYG4"
      },
      "execution_count": null,
      "outputs": []
    },
    {
      "cell_type": "code",
      "source": [
        "def welcome(name):\n",
        "    print('Hi {} we welcome you the datascience learning '.format(name))\n",
        "welcome('Danush')"
      ],
      "metadata": {
        "id": "xDdtIi_DiYRb"
      },
      "execution_count": null,
      "outputs": []
    },
    {
      "cell_type": "code",
      "source": [
        "def wel(name,age):\n",
        "  return \"Welcome {} and you are {} years old\".format(name,age)\n",
        "wel('Danush',23)"
      ],
      "metadata": {
        "id": "lAMplynYiYdX"
      },
      "execution_count": null,
      "outputs": []
    },
    {
      "cell_type": "code",
      "source": [
        "def wel(name,age):\n",
        "  return \"Welcome {name1} and you are {age1} years old\".format(name1=name,age1=age)\n",
        "wel('Danush',23)"
      ],
      "metadata": {
        "id": "Gla4ZFbriY0j"
      },
      "execution_count": null,
      "outputs": []
    },
    {
      "cell_type": "code",
      "source": [],
      "metadata": {
        "id": "VAGCftFRiY_J"
      },
      "execution_count": null,
      "outputs": []
    },
    {
      "cell_type": "code",
      "source": [],
      "metadata": {
        "id": "j8NDMbDciZTe"
      },
      "execution_count": null,
      "outputs": []
    },
    {
      "cell_type": "code",
      "source": [],
      "metadata": {
        "id": "9lUFSyuriZgf"
      },
      "execution_count": null,
      "outputs": []
    },
    {
      "cell_type": "code",
      "source": [],
      "metadata": {
        "id": "LrzOyB1hiZtK"
      },
      "execution_count": null,
      "outputs": []
    },
    {
      "cell_type": "code",
      "source": [],
      "metadata": {
        "id": "ALzu7_k4iaDl"
      },
      "execution_count": null,
      "outputs": []
    },
    {
      "cell_type": "code",
      "source": [],
      "metadata": {
        "id": "YVPqwqL3iaF3"
      },
      "execution_count": null,
      "outputs": []
    },
    {
      "cell_type": "code",
      "source": [],
      "metadata": {
        "id": "qQJ8Ya4iiaJc"
      },
      "execution_count": null,
      "outputs": []
    }
  ]
}