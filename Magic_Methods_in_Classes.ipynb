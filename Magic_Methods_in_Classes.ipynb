{
  "nbformat": 4,
  "nbformat_minor": 0,
  "metadata": {
    "colab": {
      "private_outputs": true,
      "provenance": []
    },
    "kernelspec": {
      "name": "python3",
      "display_name": "Python 3"
    },
    "language_info": {
      "name": "python"
    }
  },
  "cells": [
    {
      "cell_type": "markdown",
      "source": [
        "##OOPS Magic Methods in Classes\n"
      ],
      "metadata": {
        "id": "74LWs5AoF3Lx"
      }
    },
    {
      "cell_type": "code",
      "source": [
        "# Car blueprint\n",
        "class Car:\n",
        "    def __new__(self,windows,doors, enginetype):\n",
        "      return(\"the object has getting initialized\")\n",
        "    def __init__(self, windows, doors, enginetype):\n",
        "        self.windows = windows\n",
        "        self.doors = doors\n",
        "        self.enginetype = enginetype\n",
        "    def __str__(self):\n",
        "      return \"The Object has been initialized\"\n",
        "\n",
        "    def __sizeof__(self):\n",
        "      return \"The size of object\"\n",
        "\n",
        "    def drive(self):\n",
        "        print(\"Car is available for purchase\")\n",
        "\n",
        "car1 = Car(4, 4, \"Diesel\")"
      ],
      "metadata": {
        "id": "HR3vVunPkjX4"
      },
      "execution_count": null,
      "outputs": []
    },
    {
      "cell_type": "code",
      "source": [
        "dir(car1)"
      ],
      "metadata": {
        "id": "1qA4RjWvkjbB"
      },
      "execution_count": null,
      "outputs": []
    },
    {
      "cell_type": "code",
      "source": [
        "print(car1)"
      ],
      "metadata": {
        "id": "iDIOGoe4qsD3"
      },
      "execution_count": null,
      "outputs": []
    },
    {
      "cell_type": "code",
      "source": [
        "car1.__sizeof__()"
      ],
      "metadata": {
        "id": "ici7YimwrIkX"
      },
      "execution_count": null,
      "outputs": []
    },
    {
      "cell_type": "code",
      "source": [
        "print(car1)\n",
        "car1.drive()\n",
        "print(\"Windows:\", car1.windows)\n",
        "print(\"Doors:\", car1.doors)\n",
        "print(\"Engine Type:\", car1.enginetype)"
      ],
      "metadata": {
        "id": "f6seO93bqEog"
      },
      "execution_count": null,
      "outputs": []
    }
  ]
}