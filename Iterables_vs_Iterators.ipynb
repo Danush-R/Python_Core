{
  "nbformat": 4,
  "nbformat_minor": 0,
  "metadata": {
    "colab": {
      "private_outputs": true,
      "provenance": []
    },
    "kernelspec": {
      "name": "python3",
      "display_name": "Python 3"
    },
    "language_info": {
      "name": "python"
    }
  },
  "cells": [
    {
      "cell_type": "code",
      "source": [
        "list=[1,2,3,4,5,6]\n",
        "for i in list:\n",
        "  print(i)"
      ],
      "metadata": {
        "id": "0G7aJv6DkYIr"
      },
      "execution_count": null,
      "outputs": []
    },
    {
      "cell_type": "code",
      "source": [
        "list=[1,2,3,4,5,6]\n",
        "for i in list:\n",
        "  i=i*i\n",
        "  print(i)"
      ],
      "metadata": {
        "id": "pH4SbiTJkYcJ"
      },
      "execution_count": null,
      "outputs": []
    },
    {
      "cell_type": "code",
      "source": [
        "iter(list)"
      ],
      "metadata": {
        "id": "SK7-qDJLkYeb"
      },
      "execution_count": null,
      "outputs": []
    },
    {
      "cell_type": "code",
      "source": [
        "list1=iter(list)\n",
        "list1"
      ],
      "metadata": {
        "id": "l3cTB23pkYhx"
      },
      "execution_count": null,
      "outputs": []
    },
    {
      "cell_type": "code",
      "source": [
        "next(list1)\n",
        "# as soon as we reach the last element of the list , it goes out of the loop below, since it cant iterate"
      ],
      "metadata": {
        "id": "IA36-4g9kYlM"
      },
      "execution_count": null,
      "outputs": []
    },
    {
      "cell_type": "code",
      "source": [
        "for i in list1:\n",
        "  print(i)"
      ],
      "metadata": {
        "id": "8CqTyHGClG52"
      },
      "execution_count": null,
      "outputs": []
    },
    {
      "cell_type": "code",
      "source": [],
      "metadata": {
        "id": "4HdUuNtml8MA"
      },
      "execution_count": null,
      "outputs": []
    }
  ]
}