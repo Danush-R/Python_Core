{
  "nbformat": 4,
  "nbformat_minor": 0,
  "metadata": {
    "colab": {
      "private_outputs": true,
      "provenance": []
    },
    "kernelspec": {
      "name": "python3",
      "display_name": "Python 3"
    },
    "language_info": {
      "name": "python"
    }
  },
  "cells": [
    {
      "cell_type": "code",
      "source": [
        "\n",
        "lst1=[]\n",
        "def lst_square(lst):\n",
        "  for i in lst:\n",
        "    lst1.append(i*i)\n",
        "  return lst1\n",
        "\n",
        "lst_square([1,2,3,4,5,6,7,8,9,10])"
      ],
      "metadata": {
        "id": "PEsCOqHbeg8K"
      },
      "execution_count": null,
      "outputs": []
    },
    {
      "cell_type": "code",
      "source": [
        "lst = [1, 2, 3, 4, 5, 6, 7, 8, 9, 10]\n",
        "\n",
        "even_squares = [i * i for i in lst if i % 2 == 0]\n",
        "odd_squares = [i * i for i in lst if i % 2 != 0]\n",
        "\n",
        "print('The squares of even numbers are:', even_squares)\n",
        "print('The squares of odd numbers are:', odd_squares)\n"
      ],
      "metadata": {
        "id": "I4MdLEQgelIF"
      },
      "execution_count": null,
      "outputs": []
    },
    {
      "cell_type": "code",
      "source": [
        "def lst_square(lst):\n",
        "    squared_lst = []  # Create a new list to store the results\n",
        "    for i in lst:\n",
        "        squared_lst.append(i**2)  # Append the square of the element\n",
        "    return squared_lst\n",
        "\n",
        "lst = [1, 2, 3, 4, 5, 6, 7, 8, 9]\n",
        "result = lst_square(lst)\n",
        "print(result)\n"
      ],
      "metadata": {
        "id": "IKY2kaiLe64x"
      },
      "execution_count": null,
      "outputs": []
    },
    {
      "cell_type": "code",
      "source": [],
      "metadata": {
        "id": "qIi5Fn8LfYst"
      },
      "execution_count": null,
      "outputs": []
    }
  ]
}