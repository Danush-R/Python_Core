{
  "nbformat": 4,
  "nbformat_minor": 0,
  "metadata": {
    "colab": {
      "private_outputs": true,
      "provenance": []
    },
    "kernelspec": {
      "name": "python3",
      "display_name": "Python 3"
    },
    "language_info": {
      "name": "python"
    }
  },
  "cells": [
    {
      "cell_type": "markdown",
      "source": [
        "##Custom Exception"
      ],
      "metadata": {
        "id": "AnJqTYA0EHJR"
      }
    },
    {
      "cell_type": "code",
      "source": [
        "class Error(Exception):\n",
        "  pass\n",
        "class dobException(Error):\n",
        "  pass"
      ],
      "metadata": {
        "id": "1NHJy0dyDiLS"
      },
      "execution_count": null,
      "outputs": []
    },
    {
      "cell_type": "code",
      "source": [
        "year = int(input(\"Enter the year of Birth: \"))\n",
        "age = 2024 - year\n",
        "\n",
        "class dobException(Exception):\n",
        "    pass\n",
        "try:\n",
        "    if age <30 and age >= 20:\n",
        "        print(\"Your age is {}. Your age matches the eligible criteria. You can apply for the exams.\".format(age))\n",
        "    else:\n",
        "        raise dobException\n",
        "except dobException:\n",
        "    print(\"Your age does not match the criteria. You cannot apply for the exams.\")"
      ],
      "metadata": {
        "id": "Nn8Tv7PyENxG"
      },
      "execution_count": null,
      "outputs": []
    },
    {
      "cell_type": "code",
      "source": [
        "class Error(Exception):\n",
        "  pass\n",
        "class dobException(Error):\n",
        "  pass\n",
        "\n",
        "class customgeneric(Error):\n",
        "  pass"
      ],
      "metadata": {
        "id": "m_qX0crIEN7R"
      },
      "execution_count": null,
      "outputs": []
    },
    {
      "cell_type": "code",
      "source": [
        "year = int(input(\"Enter the year of Birth: \"))\n",
        "age = 2024 - year\n",
        "\n",
        "class dobException(Exception):\n",
        "    pass\n",
        "try:\n",
        "    if age <30 and age >= 20:\n",
        "        print(\"Your age is {}. Your age matches the eligible criteria. You can apply for the exams.\".format(age))\n",
        "    else:\n",
        "        raise dobException\n",
        "except dobException:\n",
        "    print(\"Your age does not match the criteria. You cannot apply for the exams.\")"
      ],
      "metadata": {
        "id": "XsuGE0dMEOFs"
      },
      "execution_count": null,
      "outputs": []
    },
    {
      "cell_type": "code",
      "source": [
        "class Error(Exception):\n",
        "    \"\"\"Base class for other exceptions\"\"\"\n",
        "    pass\n",
        "\n",
        "class dobException(Error):\n",
        "    \"\"\"Raised when the age does not match the criteria\"\"\"\n",
        "    def __init__(self, age, message=\"Age does not meet the criteria.\"):\n",
        "        self.age = age\n",
        "        self.message = message\n",
        "        super().__init__(self.message)\n",
        "\n",
        "    def __str__(self):\n",
        "        return f'{self.age} -> {self.message}'\n",
        "\n",
        "class customgeneric(Error):\n",
        "    \"\"\"Raised for a generic custom exception\"\"\"\n",
        "    def __init__(self, message=\"A custom error occurred\"):\n",
        "        self.message = message\n",
        "        super().__init__(self.message)\n",
        "\n",
        "def check_eligibility():\n",
        "    try:\n",
        "        year = input(\"Enter the year of Birth: \")\n",
        "\n",
        "        # Check for non-numeric input right away\n",
        "        if not year.isdigit():\n",
        "            raise ValueError(\"The year should be a number.\")\n",
        "\n",
        "        year = int(year)\n",
        "        if year > 2024:\n",
        "            raise customgeneric(\"Year of birth cannot be in the future.\")\n",
        "        if year < 1900:\n",
        "            raise customgeneric(\"Year of birth seems too far in the past to be valid.\")\n",
        "\n",
        "        age = 2024 - year\n",
        "        if 20 <= age < 30:\n",
        "            print(f\"Your age is {age}. Your age matches the eligible criteria. You can apply for the exams.\")\n",
        "        else:\n",
        "            raise dobException(age, \"Age does not meet the criteria for this application.\")\n",
        "\n",
        "    except dobException as e:\n",
        "        print(f\"Eligibility Error: {e}\")\n",
        "\n",
        "    except customgeneric as e:\n",
        "        print(f\"Input Error: {e}\")\n",
        "\n",
        "    except ValueError as e:\n",
        "        print(f\"Invalid input: {e}\")\n",
        "\n",
        "    except Exception as e:\n",
        "        print(f\"An unexpected error occurred: {e}\")\n",
        "\n",
        "check_eligibility()"
      ],
      "metadata": {
        "id": "xVrC5013EOaa"
      },
      "execution_count": null,
      "outputs": []
    },
    {
      "cell_type": "code",
      "source": [
        "1. dobException Class:\n",
        "This class is a custom exception that inherits from the base Error class. It is designed to handle scenarios where a user's age does not meet specific criteria.\n",
        "\n",
        "Key Components:\n",
        "Constructor (__init__ method):\n",
        "\n",
        "python\n",
        "Copy code\n",
        "def __init__(self, age, message=\"Age does not meet the criteria.\"):\n",
        "    self.age = age\n",
        "    self.message = message\n",
        "    super().__init__(self.message)\n",
        "Parameters:\n",
        "age: The age of the user that caused the exception.\n",
        "message: A default error message (\"Age does not meet the criteria.\") that can be overridden when the exception is raised.\n",
        "Attributes:\n",
        "self.age: Stores the age value that triggered the exception.\n",
        "self.message: Stores the error message.\n",
        "super().init(self.message):\n",
        "This calls the constructor of the base class (Error), initializing it with the error message. This ensures that the exception message is properly passed up the inheritance chain.\n",
        "String Representation (__str__ method):\n",
        "\n",
        "python\n",
        "Copy code\n",
        "def __str__(self):\n",
        "    return f'{self.age} -> {self.message}'\n",
        "This method customizes the string representation of the exception. When the exception is printed or converted to a string, it will return a string in the format \"age -> message\". For example, if the age is 15, the output might be \"15 -> Age does not meet the criteria.\"\n",
        "2. customgeneric Class:\n",
        "This class is another custom exception that also inherits from the Error class. It's a more generic exception that can be used for various errors that don't fall under specific categories like dobException.\n",
        "\n",
        "Key Components:\n",
        "Constructor (__init__ method):\n",
        "python\n",
        "Copy code\n",
        "def __init__(self, message=\"A custom error occurred\"):\n",
        "    self.message = message\n",
        "    super().__init__(self.message)\n",
        "Parameters:\n",
        "message: An optional error message with a default value (\"A custom error occurred\"). This can be overridden when the exception is raised.\n",
        "Attributes:\n",
        "self.message: Stores the custom error message.\n",
        "super().init(self.message):\n",
        "This calls the constructor of the base class (Error), passing the message up the inheritance chain so that it is correctly initialized.\n",
        "Summary:\n",
        "dobException is a specific custom exception that carries additional context (the age) and provides a clear message related to age validation failures. The __str__ method is overridden to give a formatted string output whenever the exception is printed.\n",
        "\n",
        "customgeneric is a more general-purpose custom exception. It is used for situations where you want to raise an error that doesn’t fit into a more specific category. It mainly carries a message and relies on the default behavior for other aspects.\n",
        "\n",
        "Both classes use inheritance to ensure that their behavior aligns with Python's standard exception-handling mechanisms while also adding specific functionality relevant to the context in which they're used."
      ],
      "metadata": {
        "id": "dT-8-GW_EOi1"
      },
      "execution_count": null,
      "outputs": []
    },
    {
      "cell_type": "code",
      "source": [],
      "metadata": {
        "id": "Ut34S8kvEOtG"
      },
      "execution_count": null,
      "outputs": []
    }
  ]
}